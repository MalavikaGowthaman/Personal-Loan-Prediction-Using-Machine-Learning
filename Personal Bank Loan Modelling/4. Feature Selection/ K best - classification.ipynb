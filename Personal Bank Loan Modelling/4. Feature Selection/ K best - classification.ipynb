{
 "cells": [
  {
   "cell_type": "code",
   "execution_count": 1,
   "id": "330c2100",
   "metadata": {},
   "outputs": [],
   "source": [
    "# importing libray\n",
    "import pandas as pd\n",
    "import pickle\n",
    "import numpy as np\n",
    "import matplotlib.pyplot as plt\n",
    "import time"
   ]
  },
  {
   "cell_type": "code",
   "execution_count": 2,
   "id": "e03b5ef7",
   "metadata": {},
   "outputs": [],
   "source": [
    "# creating func for k best\n",
    "def selectkbest(indep_X,dep_Y,n):\n",
    "    from sklearn.feature_selection import SelectKBest,chi2\n",
    "    test = SelectKBest(score_func = chi2, k =n)\n",
    "    fit1= test.fit(indep_X, dep_Y)\n",
    "    selectk_features = fit1.transform(indep_X)\n",
    "    return selectk_features"
   ]
  },
  {
   "cell_type": "code",
   "execution_count": 3,
   "id": "91a67811",
   "metadata": {},
   "outputs": [],
   "source": [
    "#function for spliting input output and stdarization\n",
    "def split_scalar(indep_X,dep_Y):\n",
    "    from sklearn.preprocessing import StandardScaler\n",
    "    from sklearn.model_selection import train_test_split\n",
    "    X_train,X_test,Y_train,Y_test = train_test_split(indep_X,dep_Y,test_size=0.25, random_state =0)\n",
    "    sc = StandardScaler()\n",
    "    X_train=sc.fit_transform(X_train)\n",
    "    X_test = sc.transform(X_test)\n",
    "    return(X_train,X_test,Y_train,Y_test)"
   ]
  },
  {
   "cell_type": "code",
   "execution_count": 4,
   "id": "c7adde4f",
   "metadata": {},
   "outputs": [],
   "source": [
    "def cm_pred(classifier,X_test):\n",
    "    from sklearn.metrics import confusion_matrix\n",
    "    from sklearn.metrics import accuracy_score\n",
    "    from sklearn.metrics import classification_report\n",
    "    test_pred = classifier.predict(X_test)\n",
    "    cm = confusion_matrix(Y_test, test_pred)\n",
    "    accuracy = accuracy_score(Y_test,test_pred)\n",
    "    report = classification_report(Y_test,test_pred)\n",
    "    return classifier, accuracy, report, X_test,Y_test,cm"
   ]
  },
  {
   "cell_type": "code",
   "execution_count": 5,
   "id": "55438046",
   "metadata": {},
   "outputs": [],
   "source": [
    "def log(X_train,Y_train,X_test):\n",
    "    from sklearn.linear_model import LogisticRegression\n",
    "    classifier = LogisticRegression(random_state=0)\n",
    "    classifier.fit(X_train,Y_train)\n",
    "    classifier, accuracy, report, X_test,Y_test,cm = cm_pred(classifier, X_test)\n",
    "    return classifier,accuracy, report,X_test,Y_test,cm   "
   ]
  },
  {
   "cell_type": "code",
   "execution_count": 6,
   "id": "a249540f",
   "metadata": {},
   "outputs": [],
   "source": [
    "def svm(X_train,Y_train,X_test):\n",
    "    from sklearn.svm import SVC\n",
    "    classifier = SVC(kernel = 'rbf',random_state=0)\n",
    "    classifier.fit(X_train,Y_train)\n",
    "    classifier, accuracy, report, X_test,Y_test,cm = cm_pred(classifier, X_test)\n",
    "    return classifier,accuracy, report,X_test,Y_test,cm"
   ]
  },
  {
   "cell_type": "code",
   "execution_count": 7,
   "id": "dd5a6c8d",
   "metadata": {},
   "outputs": [],
   "source": [
    "\n",
    "def Navie(X_train,Y_train,X_test):\n",
    "    from sklearn.naive_bayes import GaussianNB\n",
    "    classifier = GaussianNB()\n",
    "    classifier.fit(X_train,Y_train)\n",
    "    classifier, accuracy, report, X_test,Y_test,cm = cm_pred(classifier, X_test)\n",
    "    return classifier, accuracy, report,X_test,Y_test,cm"
   ]
  },
  {
   "cell_type": "code",
   "execution_count": 8,
   "id": "932fe3ef",
   "metadata": {},
   "outputs": [],
   "source": [
    "def knn(X_train,Y_train,X_test):\n",
    "    from sklearn.neighbors import KNeighborsClassifier\n",
    "    classifier = KNeighborsClassifier(n_neighbors=5,metric='minkowski',p=2)\n",
    "    classifier.fit(X_train,Y_train)\n",
    "    classifier, accuracy, report, X_test,Y_test,cm = cm_pred(classifier, X_test)\n",
    "    return classifier, accuracy, report,X_test,Y_test,cm"
   ]
  },
  {
   "cell_type": "code",
   "execution_count": 9,
   "id": "02b02893",
   "metadata": {},
   "outputs": [],
   "source": [
    "\n",
    "def decision(X_train,Y_train,X_test):\n",
    "    from sklearn.tree import DecisionTreeClassifier\n",
    "    classifier = DecisionTreeClassifier(criterion='entropy',random_state =0)\n",
    "    classifier.fit(X_train,Y_train)\n",
    "    classifier, accuracy, report, X_test,test_pred,cm = cm_pred(classifier, X_test)\n",
    "    return classifier, accuracy, report,X_test,test_pred,cm"
   ]
  },
  {
   "cell_type": "code",
   "execution_count": 10,
   "id": "6ca8847a",
   "metadata": {},
   "outputs": [],
   "source": [
    "\n",
    "def random(X_train,y_train,X_test):\n",
    "        \n",
    "        # Fitting K-NN to the Training set\n",
    "        from sklearn.ensemble import RandomForestClassifier\n",
    "        classifier = RandomForestClassifier(n_estimators = 10, criterion = 'entropy', random_state = 0)\n",
    "        classifier.fit(X_train, Y_train)\n",
    "        classifier,Accuracy,report,X_test,Y_test,cm=cm_pred(classifier,X_test)\n",
    "        return  classifier,Accuracy,report,X_test,Y_test,cm\n",
    "    "
   ]
  },
  {
   "cell_type": "code",
   "execution_count": 11,
   "id": "286ef4f1",
   "metadata": {},
   "outputs": [],
   "source": [
    "def select_K_classification(acclog,accsvm,accnavie,accknn,accdt,accrf):\n",
    "    df = pd.DataFrame(index=['ChiSquare'],columns =['Logistic','SVM','Navie','KNN','DecisionTree','RandomForest'])\n",
    "    for number,idex in enumerate(df.index):\n",
    "        df['Logistic'][idex]=acclog[number]\n",
    "        df['SVM'][idex]=accsvm[number]\n",
    "        df['Navie'][idex]=accnavie[number]\n",
    "        df['KNN'][idex]=accknn[number]\n",
    "        df['DecisionTree'][idex]=accdt[number]\n",
    "        df['RandomForest'][idex]=accrf[number]\n",
    "    return df"
   ]
  },
  {
   "cell_type": "code",
   "execution_count": 13,
   "id": "c0dee87b",
   "metadata": {},
   "outputs": [],
   "source": [
    "dataset =pd.read_csv('Pre_Loan_data.csv',index_col=None)"
   ]
  },
  {
   "cell_type": "code",
   "execution_count": 14,
   "id": "1e6ae2c3",
   "metadata": {},
   "outputs": [],
   "source": [
    "DF = dataset"
   ]
  },
  {
   "cell_type": "code",
   "execution_count": 15,
   "id": "57ba5b8b",
   "metadata": {},
   "outputs": [],
   "source": [
    "indep_X = DF.drop('Personal Loan',axis =1)"
   ]
  },
  {
   "cell_type": "code",
   "execution_count": 16,
   "id": "156ab19e",
   "metadata": {},
   "outputs": [],
   "source": [
    "dep_Y= DF['Personal Loan']"
   ]
  },
  {
   "cell_type": "code",
   "execution_count": 17,
   "id": "0200e350",
   "metadata": {},
   "outputs": [
    {
     "data": {
      "text/html": [
       "<div>\n",
       "<style scoped>\n",
       "    .dataframe tbody tr th:only-of-type {\n",
       "        vertical-align: middle;\n",
       "    }\n",
       "\n",
       "    .dataframe tbody tr th {\n",
       "        vertical-align: top;\n",
       "    }\n",
       "\n",
       "    .dataframe thead th {\n",
       "        text-align: right;\n",
       "    }\n",
       "</style>\n",
       "<table border=\"1\" class=\"dataframe\">\n",
       "  <thead>\n",
       "    <tr style=\"text-align: right;\">\n",
       "      <th></th>\n",
       "      <th>Age</th>\n",
       "      <th>Experience</th>\n",
       "      <th>Income</th>\n",
       "      <th>Family</th>\n",
       "      <th>CCAvg</th>\n",
       "      <th>Education</th>\n",
       "      <th>Mortgage</th>\n",
       "      <th>Securities Account</th>\n",
       "      <th>CD Account</th>\n",
       "      <th>Online</th>\n",
       "      <th>CreditCard</th>\n",
       "    </tr>\n",
       "  </thead>\n",
       "  <tbody>\n",
       "    <tr>\n",
       "      <th>0</th>\n",
       "      <td>25</td>\n",
       "      <td>1</td>\n",
       "      <td>4.083</td>\n",
       "      <td>4</td>\n",
       "      <td>1.6</td>\n",
       "      <td>1</td>\n",
       "      <td>0</td>\n",
       "      <td>1</td>\n",
       "      <td>0</td>\n",
       "      <td>0</td>\n",
       "      <td>0</td>\n",
       "    </tr>\n",
       "    <tr>\n",
       "      <th>1</th>\n",
       "      <td>45</td>\n",
       "      <td>19</td>\n",
       "      <td>2.833</td>\n",
       "      <td>3</td>\n",
       "      <td>1.5</td>\n",
       "      <td>1</td>\n",
       "      <td>0</td>\n",
       "      <td>1</td>\n",
       "      <td>0</td>\n",
       "      <td>0</td>\n",
       "      <td>0</td>\n",
       "    </tr>\n",
       "    <tr>\n",
       "      <th>2</th>\n",
       "      <td>39</td>\n",
       "      <td>15</td>\n",
       "      <td>0.917</td>\n",
       "      <td>1</td>\n",
       "      <td>1.0</td>\n",
       "      <td>1</td>\n",
       "      <td>0</td>\n",
       "      <td>0</td>\n",
       "      <td>0</td>\n",
       "      <td>0</td>\n",
       "      <td>0</td>\n",
       "    </tr>\n",
       "    <tr>\n",
       "      <th>3</th>\n",
       "      <td>35</td>\n",
       "      <td>9</td>\n",
       "      <td>8.333</td>\n",
       "      <td>1</td>\n",
       "      <td>2.7</td>\n",
       "      <td>2</td>\n",
       "      <td>0</td>\n",
       "      <td>0</td>\n",
       "      <td>0</td>\n",
       "      <td>0</td>\n",
       "      <td>0</td>\n",
       "    </tr>\n",
       "    <tr>\n",
       "      <th>4</th>\n",
       "      <td>35</td>\n",
       "      <td>8</td>\n",
       "      <td>3.750</td>\n",
       "      <td>4</td>\n",
       "      <td>1.0</td>\n",
       "      <td>2</td>\n",
       "      <td>0</td>\n",
       "      <td>0</td>\n",
       "      <td>0</td>\n",
       "      <td>0</td>\n",
       "      <td>1</td>\n",
       "    </tr>\n",
       "    <tr>\n",
       "      <th>...</th>\n",
       "      <td>...</td>\n",
       "      <td>...</td>\n",
       "      <td>...</td>\n",
       "      <td>...</td>\n",
       "      <td>...</td>\n",
       "      <td>...</td>\n",
       "      <td>...</td>\n",
       "      <td>...</td>\n",
       "      <td>...</td>\n",
       "      <td>...</td>\n",
       "      <td>...</td>\n",
       "    </tr>\n",
       "    <tr>\n",
       "      <th>4995</th>\n",
       "      <td>29</td>\n",
       "      <td>3</td>\n",
       "      <td>3.333</td>\n",
       "      <td>1</td>\n",
       "      <td>1.9</td>\n",
       "      <td>3</td>\n",
       "      <td>0</td>\n",
       "      <td>0</td>\n",
       "      <td>0</td>\n",
       "      <td>1</td>\n",
       "      <td>0</td>\n",
       "    </tr>\n",
       "    <tr>\n",
       "      <th>4996</th>\n",
       "      <td>30</td>\n",
       "      <td>4</td>\n",
       "      <td>1.250</td>\n",
       "      <td>4</td>\n",
       "      <td>0.4</td>\n",
       "      <td>1</td>\n",
       "      <td>85</td>\n",
       "      <td>0</td>\n",
       "      <td>0</td>\n",
       "      <td>1</td>\n",
       "      <td>0</td>\n",
       "    </tr>\n",
       "    <tr>\n",
       "      <th>4997</th>\n",
       "      <td>63</td>\n",
       "      <td>39</td>\n",
       "      <td>2.000</td>\n",
       "      <td>2</td>\n",
       "      <td>0.3</td>\n",
       "      <td>3</td>\n",
       "      <td>0</td>\n",
       "      <td>0</td>\n",
       "      <td>0</td>\n",
       "      <td>0</td>\n",
       "      <td>0</td>\n",
       "    </tr>\n",
       "    <tr>\n",
       "      <th>4998</th>\n",
       "      <td>65</td>\n",
       "      <td>40</td>\n",
       "      <td>4.083</td>\n",
       "      <td>3</td>\n",
       "      <td>0.5</td>\n",
       "      <td>2</td>\n",
       "      <td>0</td>\n",
       "      <td>0</td>\n",
       "      <td>0</td>\n",
       "      <td>1</td>\n",
       "      <td>0</td>\n",
       "    </tr>\n",
       "    <tr>\n",
       "      <th>4999</th>\n",
       "      <td>28</td>\n",
       "      <td>4</td>\n",
       "      <td>6.917</td>\n",
       "      <td>3</td>\n",
       "      <td>0.8</td>\n",
       "      <td>1</td>\n",
       "      <td>0</td>\n",
       "      <td>0</td>\n",
       "      <td>0</td>\n",
       "      <td>1</td>\n",
       "      <td>1</td>\n",
       "    </tr>\n",
       "  </tbody>\n",
       "</table>\n",
       "<p>5000 rows × 11 columns</p>\n",
       "</div>"
      ],
      "text/plain": [
       "      Age  Experience  Income  Family  CCAvg  Education  Mortgage  \\\n",
       "0      25           1   4.083       4    1.6          1         0   \n",
       "1      45          19   2.833       3    1.5          1         0   \n",
       "2      39          15   0.917       1    1.0          1         0   \n",
       "3      35           9   8.333       1    2.7          2         0   \n",
       "4      35           8   3.750       4    1.0          2         0   \n",
       "...   ...         ...     ...     ...    ...        ...       ...   \n",
       "4995   29           3   3.333       1    1.9          3         0   \n",
       "4996   30           4   1.250       4    0.4          1        85   \n",
       "4997   63          39   2.000       2    0.3          3         0   \n",
       "4998   65          40   4.083       3    0.5          2         0   \n",
       "4999   28           4   6.917       3    0.8          1         0   \n",
       "\n",
       "      Securities Account  CD Account  Online  CreditCard  \n",
       "0                      1           0       0           0  \n",
       "1                      1           0       0           0  \n",
       "2                      0           0       0           0  \n",
       "3                      0           0       0           0  \n",
       "4                      0           0       0           1  \n",
       "...                  ...         ...     ...         ...  \n",
       "4995                   0           0       1           0  \n",
       "4996                   0           0       1           0  \n",
       "4997                   0           0       0           0  \n",
       "4998                   0           0       1           0  \n",
       "4999                   0           0       1           1  \n",
       "\n",
       "[5000 rows x 11 columns]"
      ]
     },
     "execution_count": 17,
     "metadata": {},
     "output_type": "execute_result"
    }
   ],
   "source": [
    "indep_X"
   ]
  },
  {
   "cell_type": "code",
   "execution_count": 18,
   "id": "7041ddf3",
   "metadata": {},
   "outputs": [
    {
     "data": {
      "text/plain": [
       "0       0\n",
       "1       0\n",
       "2       0\n",
       "3       0\n",
       "4       0\n",
       "       ..\n",
       "4995    0\n",
       "4996    0\n",
       "4997    0\n",
       "4998    0\n",
       "4999    0\n",
       "Name: Personal Loan, Length: 5000, dtype: int64"
      ]
     },
     "execution_count": 18,
     "metadata": {},
     "output_type": "execute_result"
    }
   ],
   "source": [
    "dep_Y"
   ]
  },
  {
   "cell_type": "code",
   "execution_count": 41,
   "id": "961744b6",
   "metadata": {},
   "outputs": [],
   "source": [
    "\n",
    "kbest = selectkbest(indep_X,dep_Y,11)\n",
    "acclog =[]\n",
    "accsvm =[]\n",
    "accnavie =[]\n",
    "accknn =[]\n",
    "accdt =[]\n",
    "accrf=[]"
   ]
  },
  {
   "cell_type": "code",
   "execution_count": 42,
   "id": "45a57ce1",
   "metadata": {},
   "outputs": [],
   "source": [
    "# X_train,Y_train,Y_train,Y_test = split_scalar(kbest,dep_Y)\n",
    "X_train, X_test, Y_train, Y_test=split_scalar(kbest,dep_Y)"
   ]
  },
  {
   "cell_type": "code",
   "execution_count": 43,
   "id": "c341e5fd",
   "metadata": {},
   "outputs": [],
   "source": [
    "classifier,accuracy,report,X_test,Y_test,cm=log(X_train,Y_train,X_test)\n",
    "acclog.append(accuracy)\n",
    "classifier,accuracy,report,X_test,Y_test,cm=svm(X_train,Y_train,X_test)\n",
    "accsvm.append(accuracy)\n",
    "classifier,accuracy,report,X_test,Y_test,cm=Navie(X_train,Y_train,X_test)\n",
    "accnavie.append(accuracy)\n",
    "classifier,accuracy,report,X_test,Y_test,cm=knn(X_train,Y_train,X_test)\n",
    "accknn.append(accuracy)\n",
    "classifier,accuracy,report,X_test,Y_test,cm=decision(X_train,Y_train,X_test)\n",
    "accdt.append(accuracy)\n",
    "classifier,accuracy,report,X_test,Y_test,cm=random(X_train,Y_train,X_test)\n",
    "accrf.append(accuracy)"
   ]
  },
  {
   "cell_type": "code",
   "execution_count": 44,
   "id": "3cb0bc62",
   "metadata": {},
   "outputs": [],
   "source": [
    "result =select_K_classification(acclog,accsvm,accnavie,accknn,accdt,accrf)"
   ]
  },
  {
   "cell_type": "code",
   "execution_count": 38,
   "id": "6f9e2ecc",
   "metadata": {},
   "outputs": [
    {
     "data": {
      "text/html": [
       "<div>\n",
       "<style scoped>\n",
       "    .dataframe tbody tr th:only-of-type {\n",
       "        vertical-align: middle;\n",
       "    }\n",
       "\n",
       "    .dataframe tbody tr th {\n",
       "        vertical-align: top;\n",
       "    }\n",
       "\n",
       "    .dataframe thead th {\n",
       "        text-align: right;\n",
       "    }\n",
       "</style>\n",
       "<table border=\"1\" class=\"dataframe\">\n",
       "  <thead>\n",
       "    <tr style=\"text-align: right;\">\n",
       "      <th></th>\n",
       "      <th>Logistic</th>\n",
       "      <th>SVM</th>\n",
       "      <th>Navie</th>\n",
       "      <th>KNN</th>\n",
       "      <th>DecisionTree</th>\n",
       "      <th>RandomForest</th>\n",
       "    </tr>\n",
       "  </thead>\n",
       "  <tbody>\n",
       "    <tr>\n",
       "      <th>ChiSquare</th>\n",
       "      <td>0.932</td>\n",
       "      <td>0.928</td>\n",
       "      <td>0.8888</td>\n",
       "      <td>0.928</td>\n",
       "      <td>0.9248</td>\n",
       "      <td>0.9344</td>\n",
       "    </tr>\n",
       "  </tbody>\n",
       "</table>\n",
       "</div>"
      ],
      "text/plain": [
       "          Logistic    SVM   Navie    KNN DecisionTree RandomForest\n",
       "ChiSquare    0.932  0.928  0.8888  0.928       0.9248       0.9344"
      ]
     },
     "execution_count": 38,
     "metadata": {},
     "output_type": "execute_result"
    }
   ],
   "source": [
    "result # 4"
   ]
  },
  {
   "cell_type": "code",
   "execution_count": 33,
   "id": "19ec60b1",
   "metadata": {},
   "outputs": [
    {
     "data": {
      "text/html": [
       "<div>\n",
       "<style scoped>\n",
       "    .dataframe tbody tr th:only-of-type {\n",
       "        vertical-align: middle;\n",
       "    }\n",
       "\n",
       "    .dataframe tbody tr th {\n",
       "        vertical-align: top;\n",
       "    }\n",
       "\n",
       "    .dataframe thead th {\n",
       "        text-align: right;\n",
       "    }\n",
       "</style>\n",
       "<table border=\"1\" class=\"dataframe\">\n",
       "  <thead>\n",
       "    <tr style=\"text-align: right;\">\n",
       "      <th></th>\n",
       "      <th>Logistic</th>\n",
       "      <th>SVM</th>\n",
       "      <th>Navie</th>\n",
       "      <th>KNN</th>\n",
       "      <th>DecisionTree</th>\n",
       "      <th>RandomForest</th>\n",
       "    </tr>\n",
       "  </thead>\n",
       "  <tbody>\n",
       "    <tr>\n",
       "      <th>ChiSquare</th>\n",
       "      <td>0.9528</td>\n",
       "      <td>0.9784</td>\n",
       "      <td>0.8944</td>\n",
       "      <td>0.9744</td>\n",
       "      <td>0.9832</td>\n",
       "      <td>0.984</td>\n",
       "    </tr>\n",
       "  </tbody>\n",
       "</table>\n",
       "</div>"
      ],
      "text/plain": [
       "          Logistic     SVM   Navie     KNN DecisionTree RandomForest\n",
       "ChiSquare   0.9528  0.9784  0.8944  0.9744       0.9832        0.984"
      ]
     },
     "execution_count": 33,
     "metadata": {},
     "output_type": "execute_result"
    }
   ],
   "source": [
    "result #7"
   ]
  },
  {
   "cell_type": "code",
   "execution_count": 28,
   "id": "506a4275",
   "metadata": {},
   "outputs": [
    {
     "data": {
      "text/html": [
       "<div>\n",
       "<style scoped>\n",
       "    .dataframe tbody tr th:only-of-type {\n",
       "        vertical-align: middle;\n",
       "    }\n",
       "\n",
       "    .dataframe tbody tr th {\n",
       "        vertical-align: top;\n",
       "    }\n",
       "\n",
       "    .dataframe thead th {\n",
       "        text-align: right;\n",
       "    }\n",
       "</style>\n",
       "<table border=\"1\" class=\"dataframe\">\n",
       "  <thead>\n",
       "    <tr style=\"text-align: right;\">\n",
       "      <th></th>\n",
       "      <th>Logistic</th>\n",
       "      <th>SVM</th>\n",
       "      <th>Navie</th>\n",
       "      <th>KNN</th>\n",
       "      <th>DecisionTree</th>\n",
       "      <th>RandomForest</th>\n",
       "    </tr>\n",
       "  </thead>\n",
       "  <tbody>\n",
       "    <tr>\n",
       "      <th>ChiSquare</th>\n",
       "      <td>0.9544</td>\n",
       "      <td>0.9752</td>\n",
       "      <td>0.8944</td>\n",
       "      <td>0.9712</td>\n",
       "      <td>0.9816</td>\n",
       "      <td>0.9856</td>\n",
       "    </tr>\n",
       "  </tbody>\n",
       "</table>\n",
       "</div>"
      ],
      "text/plain": [
       "          Logistic     SVM   Navie     KNN DecisionTree RandomForest\n",
       "ChiSquare   0.9544  0.9752  0.8944  0.9712       0.9816       0.9856"
      ]
     },
     "execution_count": 28,
     "metadata": {},
     "output_type": "execute_result"
    }
   ],
   "source": [
    "result #9"
   ]
  },
  {
   "cell_type": "code",
   "execution_count": 45,
   "id": "e3e796a3",
   "metadata": {},
   "outputs": [
    {
     "data": {
      "text/html": [
       "<div>\n",
       "<style scoped>\n",
       "    .dataframe tbody tr th:only-of-type {\n",
       "        vertical-align: middle;\n",
       "    }\n",
       "\n",
       "    .dataframe tbody tr th {\n",
       "        vertical-align: top;\n",
       "    }\n",
       "\n",
       "    .dataframe thead th {\n",
       "        text-align: right;\n",
       "    }\n",
       "</style>\n",
       "<table border=\"1\" class=\"dataframe\">\n",
       "  <thead>\n",
       "    <tr style=\"text-align: right;\">\n",
       "      <th></th>\n",
       "      <th>Logistic</th>\n",
       "      <th>SVM</th>\n",
       "      <th>Navie</th>\n",
       "      <th>KNN</th>\n",
       "      <th>DecisionTree</th>\n",
       "      <th>RandomForest</th>\n",
       "    </tr>\n",
       "  </thead>\n",
       "  <tbody>\n",
       "    <tr>\n",
       "      <th>ChiSquare</th>\n",
       "      <td>0.9592</td>\n",
       "      <td>0.9784</td>\n",
       "      <td>0.8944</td>\n",
       "      <td>0.9688</td>\n",
       "      <td>0.9808</td>\n",
       "      <td>0.9856</td>\n",
       "    </tr>\n",
       "  </tbody>\n",
       "</table>\n",
       "</div>"
      ],
      "text/plain": [
       "          Logistic     SVM   Navie     KNN DecisionTree RandomForest\n",
       "ChiSquare   0.9592  0.9784  0.8944  0.9688       0.9808       0.9856"
      ]
     },
     "execution_count": 45,
     "metadata": {},
     "output_type": "execute_result"
    }
   ],
   "source": [
    "result # 11"
   ]
  },
  {
   "cell_type": "code",
   "execution_count": null,
   "id": "a5c4c275",
   "metadata": {},
   "outputs": [],
   "source": []
  }
 ],
 "metadata": {
  "kernelspec": {
   "display_name": "Python 3 (ipykernel)",
   "language": "python",
   "name": "python3"
  },
  "language_info": {
   "codemirror_mode": {
    "name": "ipython",
    "version": 3
   },
   "file_extension": ".py",
   "mimetype": "text/x-python",
   "name": "python",
   "nbconvert_exporter": "python",
   "pygments_lexer": "ipython3",
   "version": "3.11.5"
  }
 },
 "nbformat": 4,
 "nbformat_minor": 5
}
