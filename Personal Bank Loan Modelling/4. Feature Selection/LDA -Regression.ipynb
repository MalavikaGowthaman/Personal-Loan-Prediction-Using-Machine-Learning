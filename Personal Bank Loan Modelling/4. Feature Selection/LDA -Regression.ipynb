{
 "cells": [
  {
   "cell_type": "code",
   "execution_count": 2,
   "id": "29832c97",
   "metadata": {},
   "outputs": [],
   "source": [
    "\n",
    "# import lib\n",
    "import pandas as pd\n",
    "import numpy as np\n",
    "import time\n",
    "import matplotlib.pyplot as plt\n"
   ]
  },
  {
   "cell_type": "code",
   "execution_count": 3,
   "id": "3130264a",
   "metadata": {},
   "outputs": [],
   "source": [
    "dataset = pd.read_csv('Pre_loan_data.csv')\n",
    "dataset\n",
    "\n",
    "indep_X =  dataset.drop('Personal Loan',axis =1)\n",
    "dep_Y = dataset['Personal Loan']\n"
   ]
  },
  {
   "cell_type": "code",
   "execution_count": 4,
   "id": "b68e57f9",
   "metadata": {},
   "outputs": [],
   "source": [
    "# spliting the input and output, to perform std scaler\n",
    "def split_scaler(indep_X,dep_Y):\n",
    "    from sklearn.model_selection import train_test_split\n",
    "    from sklearn.preprocessing import StandardScaler\n",
    "    X_train,X_test,Y_train,Y_test = train_test_split(indep_X,dep_Y,test_size = 0.25,random_state = 0)\n",
    "    sc= StandardScaler()\n",
    "    X_train = sc.fit_transform(X_train)\n",
    "    X_test = sc.transform(X_test)\n",
    "    return X_train,X_test,Y_train,Y_test\n"
   ]
  },
  {
   "cell_type": "code",
   "execution_count": 5,
   "id": "e09b7fa1",
   "metadata": {},
   "outputs": [],
   "source": [
    "# to apply pca\n",
    "\n",
    "def lda(X_train,Y_train,n):\n",
    "    from sklearn.discriminant_analysis import LinearDiscriminantAnalysis as LDA\n",
    "    lda = LDA(n_components = n)\n",
    "    X_train = lda.fit_transform(X_train,Y_train)\n",
    "    return lda,X_train\n"
   ]
  },
  {
   "cell_type": "code",
   "execution_count": 6,
   "id": "78628905",
   "metadata": {},
   "outputs": [],
   "source": [
    "    \n",
    "# r2 \n",
    "# r2 for regression\n",
    "def r2_score_pred(regressor,X_test):\n",
    "    from sklearn.metrics import r2_score\n",
    "    test_pred = regressor.predict(X_test)\n",
    "    r2 = r2_score(Y_test,test_pred)\n",
    "    return r2\n",
    "# linear regression\n",
    "def linear(X_train,X_test,Y_train):\n",
    "    from sklearn.linear_model import LinearRegression\n",
    "    regressor = LinearRegression()\n",
    "    regressor.fit(X_train,Y_train)\n",
    "    r2 = r2_score_pred(regressor, X_test)\n",
    "    return r2\n",
    "# svm\n",
    "def svm(X_train,X_test,Y_train):\n",
    "    from sklearn.svm import SVR\n",
    "    regressor = SVR(kernel = 'linear')\n",
    "    regressor.fit(X_train,Y_train)\n",
    "    r2 = r2_score_pred(regressor,X_test)\n",
    "    return r2\n",
    "# decision\n",
    "def dt(X_train,X_test,Y_train):\n",
    "    from sklearn.tree import DecisionTreeRegressor\n",
    "    regressor = DecisionTreeRegressor(criterion = 'squared_error',random_state =0)\n",
    "    regressor.fit(X_train,Y_train)\n",
    "    r2 = r2_score_pred(regressor,X_test)\n",
    "    return r2\n",
    "# random\n",
    "def rf(X_train,X_test,Y_train):\n",
    "    from sklearn.ensemble import RandomForestRegressor\n",
    "    regressor = RandomForestRegressor(n_estimators = 20,random_state =0)\n",
    "    regressor.fit(X_train,Y_train)\n",
    "    r2 = r2_score_pred(regressor,X_test)\n",
    "    return r2\n",
    "\n"
   ]
  },
  {
   "cell_type": "code",
   "execution_count": 10,
   "id": "85cb0a28",
   "metadata": {},
   "outputs": [],
   "source": [
    "# table\n",
    "def lda_regression(r2score_lin,r2score_svml,r2score_dt,r2score_rf):\n",
    "    df = pd.DataFrame(index = ['PCA = 14'],columns = ['Linear','SVM_L','DecisionTree','RandomForest'])\n",
    "    for number,idex in enumerate(df.index):\n",
    "        df['Linear'][idex] = r2score_lin[number]\n",
    "        df['SVM_L'][idex] = r2score_svml[number]\n",
    "        df['DecisionTree'][idex] = r2score_dt[number]\n",
    "        df['RandomForest'][idex] = r2score_rf[number]\n",
    "    return df\n",
    "lda_ = lda(indep_X,dep_Y,1)\n",
    "r2score_lin =[]\n",
    "r2score_svml =[]\n",
    "r2score_dt =[]\n",
    "r2score_rf =[]\n"
   ]
  },
  {
   "cell_type": "code",
   "execution_count": 11,
   "id": "d3194808",
   "metadata": {},
   "outputs": [
    {
     "data": {
      "text/html": [
       "<div>\n",
       "<style scoped>\n",
       "    .dataframe tbody tr th:only-of-type {\n",
       "        vertical-align: middle;\n",
       "    }\n",
       "\n",
       "    .dataframe tbody tr th {\n",
       "        vertical-align: top;\n",
       "    }\n",
       "\n",
       "    .dataframe thead th {\n",
       "        text-align: right;\n",
       "    }\n",
       "</style>\n",
       "<table border=\"1\" class=\"dataframe\">\n",
       "  <thead>\n",
       "    <tr style=\"text-align: right;\">\n",
       "      <th></th>\n",
       "      <th>Linear</th>\n",
       "      <th>SVM_L</th>\n",
       "      <th>DecisionTree</th>\n",
       "      <th>RandomForest</th>\n",
       "    </tr>\n",
       "  </thead>\n",
       "  <tbody>\n",
       "    <tr>\n",
       "      <th>PCA = 14</th>\n",
       "      <td>0.371392</td>\n",
       "      <td>0.275696</td>\n",
       "      <td>0.726357</td>\n",
       "      <td>0.851523</td>\n",
       "    </tr>\n",
       "  </tbody>\n",
       "</table>\n",
       "</div>"
      ],
      "text/plain": [
       "            Linear     SVM_L DecisionTree RandomForest\n",
       "PCA = 14  0.371392  0.275696     0.726357     0.851523"
      ]
     },
     "execution_count": 11,
     "metadata": {},
     "output_type": "execute_result"
    }
   ],
   "source": [
    "X_train,X_test,Y_train,Y_test = split_scaler(indep_X,dep_Y)\n",
    "\n",
    "r2_lin = linear(X_train,X_test,Y_train)\n",
    "r2score_lin.append(r2_lin)\n",
    "\n",
    "r2_svml = svm(X_train,X_test,Y_train)\n",
    "r2score_svml.append(r2_svml)\n",
    "\n",
    "r2_dt = dt(X_train,X_test,Y_train)\n",
    "r2score_dt.append(r2_dt)\n",
    "\n",
    "r2_rf = rf(X_train,X_test,Y_train)\n",
    "r2score_rf.append(r2_rf)\n",
    "result = lda_regression(r2score_lin,r2score_svml,r2score_dt,r2score_rf)\n",
    "result"
   ]
  },
  {
   "cell_type": "code",
   "execution_count": null,
   "id": "9ec6feaf",
   "metadata": {},
   "outputs": [],
   "source": []
  },
  {
   "cell_type": "code",
   "execution_count": null,
   "id": "e4b4c946",
   "metadata": {},
   "outputs": [],
   "source": []
  }
 ],
 "metadata": {
  "kernelspec": {
   "display_name": "Python 3 (ipykernel)",
   "language": "python",
   "name": "python3"
  },
  "language_info": {
   "codemirror_mode": {
    "name": "ipython",
    "version": 3
   },
   "file_extension": ".py",
   "mimetype": "text/x-python",
   "name": "python",
   "nbconvert_exporter": "python",
   "pygments_lexer": "ipython3",
   "version": "3.11.5"
  }
 },
 "nbformat": 4,
 "nbformat_minor": 5
}
