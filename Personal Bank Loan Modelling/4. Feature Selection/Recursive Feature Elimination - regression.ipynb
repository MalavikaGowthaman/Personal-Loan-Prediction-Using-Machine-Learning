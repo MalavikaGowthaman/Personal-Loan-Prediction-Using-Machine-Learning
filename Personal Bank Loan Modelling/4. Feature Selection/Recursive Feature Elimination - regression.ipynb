{
 "cells": [
  {
   "cell_type": "code",
   "execution_count": 1,
   "id": "e47b281c",
   "metadata": {},
   "outputs": [],
   "source": [
    "# import lib\n",
    "import pandas as pd\n",
    "import numpy as np\n",
    "import matplotlib.pyplot as plt\n",
    "import time\n"
   ]
  },
  {
   "cell_type": "code",
   "execution_count": 2,
   "id": "077ea391",
   "metadata": {},
   "outputs": [],
   "source": [
    "# to split and preprocess\n",
    "def split_scalar(indep_X,dep_Y):\n",
    "    from sklearn.model_selection import train_test_split\n",
    "    from sklearn.preprocessing import StandardScaler\n",
    "    X_train,X_test,Y_train,Y_test = train_test_split(indep_X,dep_Y,test_size =0.30,random_state =0)\n",
    "    sc = StandardScaler()\n",
    "    X_train = sc.fit_transform(X_train)\n",
    "    X_test = sc.transform(X_test)\n",
    "    \n",
    "    return X_train,X_test,Y_train,Y_test\n"
   ]
  },
  {
   "cell_type": "code",
   "execution_count": 3,
   "id": "ffaa201a",
   "metadata": {},
   "outputs": [],
   "source": [
    "# r2 for regression\n",
    "def r2_score_pred(regressor,X_test,Y_test):\n",
    "    from sklearn.metrics import r2_score\n",
    "    test_pred = regressor.predict(X_test)\n",
    "    r2 = r2_score(Y_test,test_pred)\n",
    "    return r2\n"
   ]
  },
  {
   "cell_type": "code",
   "execution_count": 4,
   "id": "3062ce48",
   "metadata": {},
   "outputs": [],
   "source": [
    "# linear regression\n",
    "def linear(X_train,X_test,Y_train):\n",
    "    from sklearn.linear_model import LinearRegression\n",
    "    regressor = LinearRegression()\n",
    "    regressor.fit(X_train,Y_train)\n",
    "    r2 = r2_score_pred(regressor, X_test,Y_test)\n",
    "    return r2\n",
    "# svm\n",
    "def svm(X_train,X_test,Y_train):\n",
    "    from sklearn.svm import SVR\n",
    "    regressor = SVR(kernel = 'linear')\n",
    "    regressor.fit(X_train,Y_train)\n",
    "    r2 = r2_score_pred(regressor,X_test,Y_test)\n",
    "    return r2\n",
    "# decision\n",
    "def dt(X_train,X_test,Y_train):\n",
    "    from sklearn.tree import DecisionTreeRegressor\n",
    "    regressor = DecisionTreeRegressor(criterion = 'squared_error',random_state =0)\n",
    "    regressor.fit(X_train,Y_train)\n",
    "    r2 = r2_score_pred(regressor,X_test,Y_test)\n",
    "    return r2\n",
    "# random\n",
    "def rf(X_train,X_test,Y_train):\n",
    "    from sklearn.ensemble import RandomForestRegressor\n",
    "    regressor = RandomForestRegressor(n_estimators = 20,random_state =0)\n",
    "    regressor.fit(X_train,Y_train)\n",
    "    r2 = r2_score_pred(regressor,X_test,Y_test)\n",
    "    return r2\n"
   ]
  },
  {
   "cell_type": "code",
   "execution_count": 5,
   "id": "e20f54eb",
   "metadata": {},
   "outputs": [],
   "source": [
    "def rfefeature(indep_X,dep_Y,n):\n",
    "    rfelist =[]\n",
    "    \n",
    "    from sklearn.linear_model import LinearRegression\n",
    "    lin = LinearRegression()\n",
    "    \n",
    "    from sklearn.svm import SVR\n",
    "    svrl = SVR(kernel = 'linear')\n",
    "    \n",
    "    from sklearn.tree import DecisionTreeRegressor\n",
    "    dt = DecisionTreeRegressor(criterion = 'squared_error',random_state =0)\n",
    "    \n",
    "    from sklearn.ensemble import RandomForestRegressor\n",
    "    rf = RandomForestRegressor(n_estimators = 20,random_state =0)\n",
    "    \n",
    "    rfemodellist = [lin,svrl,dt,rf]\n",
    "    from sklearn.feature_selection import RFE\n",
    "    for i in rfemodellist:\n",
    "        print(i)\n",
    "        log_rfe = RFE(estimator=i, n_features_to_select=n)\n",
    "        log_fit = log_rfe.fit(indep_X,dep_Y)\n",
    "        log_rfe_feature = log_fit.transform(indep_X)\n",
    "        rfelist.append(log_rfe_feature)\n",
    "    return rfelist\n"
   ]
  },
  {
   "cell_type": "code",
   "execution_count": 6,
   "id": "dbdf5319",
   "metadata": {},
   "outputs": [],
   "source": [
    "# table\n",
    "def rfe_regression(r2score_lin,r2score_svml,r2score_dt,r2score_rf):\n",
    "    df = pd.DataFrame(index = ['Linear','SVM','DecisionTree','RandomForest'],columns = ['Linear','SVM_L','DecisionTree','RandomForest'])\n",
    "    for number,idex in enumerate(df.index):\n",
    "        df['Linear'][idex] = r2score_lin[number]\n",
    "        df['SVM_L'][idex] = r2score_svml[number]\n",
    "        df['DecisionTree'][idex] = r2score_dt[number]\n",
    "        df['RandomForest'][idex] = r2score_rf[number]\n",
    "    return df\n"
   ]
  },
  {
   "cell_type": "code",
   "execution_count": 10,
   "id": "f1482577",
   "metadata": {},
   "outputs": [],
   "source": [
    "dataset = pd.read_csv('Pre_Loan_data.csv')\n",
    "df2 = dataset\n",
    "\n",
    "indep_X = df2.drop('Personal Loan',axis =1)\n",
    "dep_Y = df2['Personal Loan']\n"
   ]
  },
  {
   "cell_type": "code",
   "execution_count": 15,
   "id": "fd54fc0d",
   "metadata": {},
   "outputs": [
    {
     "name": "stdout",
     "output_type": "stream",
     "text": [
      "LinearRegression()\n",
      "SVR(kernel='linear')\n",
      "DecisionTreeRegressor(random_state=0)\n",
      "RandomForestRegressor(n_estimators=20, random_state=0)\n"
     ]
    }
   ],
   "source": [
    "rfelist = rfefeature(indep_X,dep_Y,5)\n",
    "r2score_lin =[]\n",
    "r2score_svml =[]\n",
    "r2score_dt =[]\n",
    "r2score_rf =[]\n",
    "\n"
   ]
  },
  {
   "cell_type": "code",
   "execution_count": 16,
   "id": "1cb4070d",
   "metadata": {},
   "outputs": [],
   "source": [
    "for i in rfelist:\n",
    "    X_train,X_test,Y_train,Y_test = split_scalar(i,dep_Y)\n",
    "    \n",
    "    r2_lin = linear(X_train,X_test,Y_train)\n",
    "    r2score_lin.append(r2_lin)\n",
    "    \n",
    "    r2_svml = svm(X_train,X_test,Y_train)\n",
    "    r2score_svml.append(r2_svml)\n",
    "    \n",
    "    r2_dt = dt(X_train,X_test,Y_train)\n",
    "    r2score_dt.append(r2_dt)\n",
    "    \n",
    "    r2_rf = rf(X_train,X_test,Y_train)\n",
    "    r2score_rf.append(r2_rf)\n",
    "    \n"
   ]
  },
  {
   "cell_type": "code",
   "execution_count": 17,
   "id": "2ac0b78b",
   "metadata": {},
   "outputs": [],
   "source": [
    "result  = rfe_regression(r2score_lin,r2score_svml,r2score_dt,r2score_rf)\n"
   ]
  },
  {
   "cell_type": "code",
   "execution_count": 14,
   "id": "40ca3cda",
   "metadata": {},
   "outputs": [
    {
     "data": {
      "text/html": [
       "<div>\n",
       "<style scoped>\n",
       "    .dataframe tbody tr th:only-of-type {\n",
       "        vertical-align: middle;\n",
       "    }\n",
       "\n",
       "    .dataframe tbody tr th {\n",
       "        vertical-align: top;\n",
       "    }\n",
       "\n",
       "    .dataframe thead th {\n",
       "        text-align: right;\n",
       "    }\n",
       "</style>\n",
       "<table border=\"1\" class=\"dataframe\">\n",
       "  <thead>\n",
       "    <tr style=\"text-align: right;\">\n",
       "      <th></th>\n",
       "      <th>Linear</th>\n",
       "      <th>SVM_L</th>\n",
       "      <th>DecisionTree</th>\n",
       "      <th>RandomForest</th>\n",
       "    </tr>\n",
       "  </thead>\n",
       "  <tbody>\n",
       "    <tr>\n",
       "      <th>Linear</th>\n",
       "      <td>0.357697</td>\n",
       "      <td>0.272669</td>\n",
       "      <td>0.631239</td>\n",
       "      <td>0.766712</td>\n",
       "    </tr>\n",
       "    <tr>\n",
       "      <th>SVM</th>\n",
       "      <td>0.357697</td>\n",
       "      <td>0.272669</td>\n",
       "      <td>0.631239</td>\n",
       "      <td>0.766712</td>\n",
       "    </tr>\n",
       "    <tr>\n",
       "      <th>DecisionTree</th>\n",
       "      <td>0.352932</td>\n",
       "      <td>0.262435</td>\n",
       "      <td>0.743759</td>\n",
       "      <td>0.871388</td>\n",
       "    </tr>\n",
       "    <tr>\n",
       "      <th>RandomForest</th>\n",
       "      <td>0.352932</td>\n",
       "      <td>0.262435</td>\n",
       "      <td>0.743759</td>\n",
       "      <td>0.871388</td>\n",
       "    </tr>\n",
       "  </tbody>\n",
       "</table>\n",
       "</div>"
      ],
      "text/plain": [
       "                Linear     SVM_L DecisionTree RandomForest\n",
       "Linear        0.357697  0.272669     0.631239     0.766712\n",
       "SVM           0.357697  0.272669     0.631239     0.766712\n",
       "DecisionTree  0.352932  0.262435     0.743759     0.871388\n",
       "RandomForest  0.352932  0.262435     0.743759     0.871388"
      ]
     },
     "execution_count": 14,
     "metadata": {},
     "output_type": "execute_result"
    }
   ],
   "source": [
    "# result # 7"
   ]
  },
  {
   "cell_type": "code",
   "execution_count": 18,
   "id": "fa2cb679",
   "metadata": {},
   "outputs": [
    {
     "data": {
      "text/html": [
       "<div>\n",
       "<style scoped>\n",
       "    .dataframe tbody tr th:only-of-type {\n",
       "        vertical-align: middle;\n",
       "    }\n",
       "\n",
       "    .dataframe tbody tr th {\n",
       "        vertical-align: top;\n",
       "    }\n",
       "\n",
       "    .dataframe thead th {\n",
       "        text-align: right;\n",
       "    }\n",
       "</style>\n",
       "<table border=\"1\" class=\"dataframe\">\n",
       "  <thead>\n",
       "    <tr style=\"text-align: right;\">\n",
       "      <th></th>\n",
       "      <th>Linear</th>\n",
       "      <th>SVM_L</th>\n",
       "      <th>DecisionTree</th>\n",
       "      <th>RandomForest</th>\n",
       "    </tr>\n",
       "  </thead>\n",
       "  <tbody>\n",
       "    <tr>\n",
       "      <th>Linear</th>\n",
       "      <td>0.339518</td>\n",
       "      <td>0.258579</td>\n",
       "      <td>0.544572</td>\n",
       "      <td>0.585868</td>\n",
       "    </tr>\n",
       "    <tr>\n",
       "      <th>SVM</th>\n",
       "      <td>0.339518</td>\n",
       "      <td>0.258579</td>\n",
       "      <td>0.544572</td>\n",
       "      <td>0.585868</td>\n",
       "    </tr>\n",
       "    <tr>\n",
       "      <th>DecisionTree</th>\n",
       "      <td>0.312396</td>\n",
       "      <td>0.198229</td>\n",
       "      <td>0.692511</td>\n",
       "      <td>0.876919</td>\n",
       "    </tr>\n",
       "    <tr>\n",
       "      <th>RandomForest</th>\n",
       "      <td>0.312396</td>\n",
       "      <td>0.198229</td>\n",
       "      <td>0.692511</td>\n",
       "      <td>0.876919</td>\n",
       "    </tr>\n",
       "  </tbody>\n",
       "</table>\n",
       "</div>"
      ],
      "text/plain": [
       "                Linear     SVM_L DecisionTree RandomForest\n",
       "Linear        0.339518  0.258579     0.544572     0.585868\n",
       "SVM           0.339518  0.258579     0.544572     0.585868\n",
       "DecisionTree  0.312396  0.198229     0.692511     0.876919\n",
       "RandomForest  0.312396  0.198229     0.692511     0.876919"
      ]
     },
     "execution_count": 18,
     "metadata": {},
     "output_type": "execute_result"
    }
   ],
   "source": [
    "result  #5"
   ]
  },
  {
   "cell_type": "code",
   "execution_count": 18,
   "id": "dc421aa5",
   "metadata": {},
   "outputs": [
    {
     "data": {
      "text/html": [
       "<div>\n",
       "<style scoped>\n",
       "    .dataframe tbody tr th:only-of-type {\n",
       "        vertical-align: middle;\n",
       "    }\n",
       "\n",
       "    .dataframe tbody tr th {\n",
       "        vertical-align: top;\n",
       "    }\n",
       "\n",
       "    .dataframe thead th {\n",
       "        text-align: right;\n",
       "    }\n",
       "</style>\n",
       "<table border=\"1\" class=\"dataframe\">\n",
       "  <thead>\n",
       "    <tr style=\"text-align: right;\">\n",
       "      <th></th>\n",
       "      <th>Linear</th>\n",
       "      <th>SVM_L</th>\n",
       "      <th>DecisionTree</th>\n",
       "      <th>RandomForest</th>\n",
       "    </tr>\n",
       "  </thead>\n",
       "  <tbody>\n",
       "    <tr>\n",
       "      <th>Linear</th>\n",
       "      <td>0.091512</td>\n",
       "      <td>-0.022089</td>\n",
       "      <td>-0.259246</td>\n",
       "      <td>-0.080838</td>\n",
       "    </tr>\n",
       "    <tr>\n",
       "      <th>SVM</th>\n",
       "      <td>0.091512</td>\n",
       "      <td>-0.022089</td>\n",
       "      <td>-0.259246</td>\n",
       "      <td>-0.080838</td>\n",
       "    </tr>\n",
       "    <tr>\n",
       "      <th>DecisionTree</th>\n",
       "      <td>0.084288</td>\n",
       "      <td>-0.022335</td>\n",
       "      <td>-0.622596</td>\n",
       "      <td>0.079177</td>\n",
       "    </tr>\n",
       "    <tr>\n",
       "      <th>RandomForest</th>\n",
       "      <td>0.0934</td>\n",
       "      <td>-0.022252</td>\n",
       "      <td>-0.784856</td>\n",
       "      <td>0.026442</td>\n",
       "    </tr>\n",
       "  </tbody>\n",
       "</table>\n",
       "</div>"
      ],
      "text/plain": [
       "                Linear     SVM_L DecisionTree RandomForest\n",
       "Linear        0.091512 -0.022089    -0.259246    -0.080838\n",
       "SVM           0.091512 -0.022089    -0.259246    -0.080838\n",
       "DecisionTree  0.084288 -0.022335    -0.622596     0.079177\n",
       "RandomForest    0.0934 -0.022252    -0.784856     0.026442"
      ]
     },
     "execution_count": 18,
     "metadata": {},
     "output_type": "execute_result"
    }
   ],
   "source": [
    "# result#8"
   ]
  },
  {
   "cell_type": "code",
   "execution_count": 22,
   "id": "99531bc9",
   "metadata": {},
   "outputs": [
    {
     "data": {
      "text/html": [
       "<div>\n",
       "<style scoped>\n",
       "    .dataframe tbody tr th:only-of-type {\n",
       "        vertical-align: middle;\n",
       "    }\n",
       "\n",
       "    .dataframe tbody tr th {\n",
       "        vertical-align: top;\n",
       "    }\n",
       "\n",
       "    .dataframe thead th {\n",
       "        text-align: right;\n",
       "    }\n",
       "</style>\n",
       "<table border=\"1\" class=\"dataframe\">\n",
       "  <thead>\n",
       "    <tr style=\"text-align: right;\">\n",
       "      <th></th>\n",
       "      <th>Linear</th>\n",
       "      <th>SVM_L</th>\n",
       "      <th>DecisionTree</th>\n",
       "      <th>RandomForest</th>\n",
       "    </tr>\n",
       "  </thead>\n",
       "  <tbody>\n",
       "    <tr>\n",
       "      <th>Linear</th>\n",
       "      <td>0.069321</td>\n",
       "      <td>-0.022109</td>\n",
       "      <td>-0.784856</td>\n",
       "      <td>-0.148325</td>\n",
       "    </tr>\n",
       "    <tr>\n",
       "      <th>SVM</th>\n",
       "      <td>0.069321</td>\n",
       "      <td>-0.022109</td>\n",
       "      <td>-0.784856</td>\n",
       "      <td>-0.148325</td>\n",
       "    </tr>\n",
       "    <tr>\n",
       "      <th>DecisionTree</th>\n",
       "      <td>0.094896</td>\n",
       "      <td>-0.022204</td>\n",
       "      <td>-0.947115</td>\n",
       "      <td>0.035029</td>\n",
       "    </tr>\n",
       "    <tr>\n",
       "      <th>RandomForest</th>\n",
       "      <td>0.066359</td>\n",
       "      <td>-0.022185</td>\n",
       "      <td>-0.974159</td>\n",
       "      <td>-0.022979</td>\n",
       "    </tr>\n",
       "  </tbody>\n",
       "</table>\n",
       "</div>"
      ],
      "text/plain": [
       "                Linear     SVM_L DecisionTree RandomForest\n",
       "Linear        0.069321 -0.022109    -0.784856    -0.148325\n",
       "SVM           0.069321 -0.022109    -0.784856    -0.148325\n",
       "DecisionTree  0.094896 -0.022204    -0.947115     0.035029\n",
       "RandomForest  0.066359 -0.022185    -0.974159    -0.022979"
      ]
     },
     "execution_count": 22,
     "metadata": {},
     "output_type": "execute_result"
    }
   ],
   "source": [
    "result #10"
   ]
  },
  {
   "cell_type": "code",
   "execution_count": null,
   "id": "93966bbb",
   "metadata": {},
   "outputs": [],
   "source": []
  }
 ],
 "metadata": {
  "kernelspec": {
   "display_name": "Python 3 (ipykernel)",
   "language": "python",
   "name": "python3"
  },
  "language_info": {
   "codemirror_mode": {
    "name": "ipython",
    "version": 3
   },
   "file_extension": ".py",
   "mimetype": "text/x-python",
   "name": "python",
   "nbconvert_exporter": "python",
   "pygments_lexer": "ipython3",
   "version": "3.11.5"
  }
 },
 "nbformat": 4,
 "nbformat_minor": 5
}
