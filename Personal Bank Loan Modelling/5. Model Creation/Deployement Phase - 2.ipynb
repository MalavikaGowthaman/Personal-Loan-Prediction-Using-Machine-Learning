{
 "cells": [
  {
   "cell_type": "code",
   "execution_count": 1,
   "id": "ce6e491c",
   "metadata": {},
   "outputs": [],
   "source": [
    "import pickle"
   ]
  },
  {
   "cell_type": "code",
   "execution_count": 2,
   "id": "02a5e79d",
   "metadata": {},
   "outputs": [],
   "source": [
    "load_model=pickle.load(open(\"Personal_Bank_loan_Prediction.sav\",'rb'))"
   ]
  },
  {
   "cell_type": "code",
   "execution_count": 4,
   "id": "15d0fa7d",
   "metadata": {},
   "outputs": [
    {
     "name": "stdout",
     "output_type": "stream",
     "text": [
      "Age: 24\n",
      "Experience: 2\n",
      "Income: 1\n",
      "Family: 2\n",
      "CCAvg: 1\n",
      "Education: 1\n",
      "Mortgage: 0\n",
      "CD Account: 0\n",
      "Online: 0\n"
     ]
    }
   ],
   "source": [
    "def get_categorical_prediction(prediction):\n",
    "    return \"Yes\" if prediction == 1 else \"No\"\n",
    "Age = (input(\"Age: \"))\n",
    "Experience = (input(\"Experience: \"))\n",
    "Income = float(input(\"Income: \"))\n",
    "Family= int(input(\"Family: \"))\n",
    "CCAvg = float(input(\"CCAvg: \"))\n",
    "Education = int(input(\"Education: \"))\n",
    "Mortgage = int(input(\"Mortgage: \"))\n",
    "# SecuritiesAccount = int(input(\"Securities Account: \"))\n",
    "CDAccount = int(input(\"CD Account: \"))\n",
    "OnlineAccount = int(input(\"Online: \"))\n",
    "# CreditCard = int(input(\"CreditCard: \"))"
   ]
  },
  {
   "cell_type": "code",
   "execution_count": 6,
   "id": "f3119b1e",
   "metadata": {},
   "outputs": [
    {
     "data": {
      "text/plain": [
       "array([1], dtype=int64)"
      ]
     },
     "execution_count": 6,
     "metadata": {},
     "output_type": "execute_result"
    }
   ],
   "source": [
    "Final_result = load_model.predict([[Age,Experience,Income,Family,CCAvg,Education,Mortgage,CDAccount,OnlineAccount]])\n",
    "# Final_result"
   ]
  },
  {
   "cell_type": "code",
   "execution_count": 7,
   "id": "89fc8b52",
   "metadata": {},
   "outputs": [
    {
     "data": {
      "text/plain": [
       "'Yes'"
      ]
     },
     "execution_count": 7,
     "metadata": {},
     "output_type": "execute_result"
    }
   ],
   "source": [
    "future_prediction_categorical = get_categorical_prediction(Final_result)\n",
    "# future_prediction_categorical"
   ]
  },
  {
   "cell_type": "code",
   "execution_count": 8,
   "id": "ac9493a9",
   "metadata": {},
   "outputs": [
    {
     "name": "stdout",
     "output_type": "stream",
     "text": [
      "Whether this Customer will accept the Personal Loan: Yes\n"
     ]
    }
   ],
   "source": [
    "# Print the categorical prediction\n",
    "print(\"Whether this Customer will accept the Personal Loan:\", future_prediction_categorical)"
   ]
  }
 ],
 "metadata": {
  "kernelspec": {
   "display_name": "Python 3 (ipykernel)",
   "language": "python",
   "name": "python3"
  },
  "language_info": {
   "codemirror_mode": {
    "name": "ipython",
    "version": 3
   },
   "file_extension": ".py",
   "mimetype": "text/x-python",
   "name": "python",
   "nbconvert_exporter": "python",
   "pygments_lexer": "ipython3",
   "version": "3.11.5"
  }
 },
 "nbformat": 4,
 "nbformat_minor": 5
}
